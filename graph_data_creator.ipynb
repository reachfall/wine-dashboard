{
 "metadata": {
  "language_info": {
   "codemirror_mode": {
    "name": "ipython",
    "version": 3
   },
   "file_extension": ".py",
   "mimetype": "text/x-python",
   "name": "python",
   "nbconvert_exporter": "python",
   "pygments_lexer": "ipython3",
   "version": "3.9.5"
  },
  "orig_nbformat": 2,
  "kernelspec": {
   "name": "python3",
   "display_name": "Python 3.9.5 64-bit"
  },
  "metadata": {
   "interpreter": {
    "hash": "63fd5069d213b44bf678585dea6b12cceca9941eaf7f819626cde1f2670de90d"
   }
  },
  "interpreter": {
   "hash": "63fd5069d213b44bf678585dea6b12cceca9941eaf7f819626cde1f2670de90d"
  }
 },
 "nbformat": 4,
 "nbformat_minor": 2,
 "cells": [
  {
   "cell_type": "code",
   "execution_count": 13,
   "metadata": {},
   "outputs": [],
   "source": [
    "import pandas as pd\n",
    "import numpy as np"
   ]
  },
  {
   "cell_type": "code",
   "execution_count": 14,
   "metadata": {},
   "outputs": [],
   "source": [
    "df = pd.read_csv('data/wine_extended.csv', index_col=0)"
   ]
  },
  {
   "cell_type": "code",
   "execution_count": 15,
   "metadata": {},
   "outputs": [],
   "source": [
    "# split data into 2 categories: reviews (current data) and wines (unique wines) \n",
    "reviews = df\n",
    "wines = df.drop_duplicates(subset=\"title\", keep=\"first\")"
   ]
  },
  {
   "cell_type": "code",
   "execution_count": 16,
   "metadata": {},
   "outputs": [],
   "source": [
    "# choropleth data\n",
    "df_choropleth = wines.groupby(['country', 'continent'])['iso_a2'].value_counts().to_frame().rename(columns={\"iso_a2\":\"no_wines\"}).reset_index()"
   ]
  },
  {
   "cell_type": "code",
   "execution_count": 17,
   "metadata": {},
   "outputs": [],
   "source": [
    "# sunburst data\n",
    "df_sunburst = df_choropleth.copy()\n",
    "df_sunburst[\"continent_class\"] = df_sunburst[\"continent\"].replace(\n",
    "    {\"Asia\": \"Other\", \"Oceania\": \"Other\", \"Africa\": \"Other\"}\n",
    ")"
   ]
  },
  {
   "cell_type": "code",
   "execution_count": 18,
   "metadata": {},
   "outputs": [],
   "source": [
    "# treemap data\n",
    "df_treemap = pd.merge(df_choropleth, df.groupby(\"country\").mean().reset_index(), on=\"country\")\n",
    "df_treemap = df_treemap.query(\"no_wines>100\")\n",
    "df_treemap[\"world\"] = \"World\""
   ]
  },
  {
   "cell_type": "code",
   "execution_count": 19,
   "metadata": {},
   "outputs": [],
   "source": [
    "# taster finder\n",
    "def find_taster(name, twitter, name_col, twitter_col):\n",
    "    return (name == name_col) & ((twitter == twitter_col) | ((twitter != twitter) & (twitter_col != twitter_col)))"
   ]
  },
  {
   "cell_type": "code",
   "execution_count": 20,
   "metadata": {},
   "outputs": [],
   "source": [
    "df_all_tasters_details = (\n",
    "    reviews.groupby(\n",
    "        [\"taster_name\", \"taster_twitter_handle\", \"country\", \"variety\"], dropna=False\n",
    "    )\n",
    "    .agg({\"variety\": \"count\", \"points\": \"mean\", \"price\": \"mean\"})\n",
    "    .rename(columns={\"variety\": \"no_reviews\", \"points\":\"avg_points\", \"price\":\"avg_price\"})\n",
    "    .reset_index()\n",
    ")"
   ]
  },
  {
   "cell_type": "code",
   "execution_count": 21,
   "metadata": {},
   "outputs": [],
   "source": [
    "# get taster reviews details (by country or variety)\n",
    "def get_taster_details(taster_name, taster_twitter_handle, by):\n",
    "    return (\n",
    "        df_all_tasters_details[\n",
    "            find_taster(\n",
    "                taster_name,\n",
    "                taster_twitter_handle,\n",
    "                df_all_tasters_details[\"taster_name\"],\n",
    "                df_all_tasters_details[\"taster_twitter_handle\"],\n",
    "            )\n",
    "        ]\n",
    "        .groupby([f\"{by}\"])\n",
    "        .agg({\"no_reviews\": \"sum\", \"avg_points\": \"mean\", \"avg_price\": \"mean\"})\n",
    "        .round({'avg_points': 2, 'avg_price':2})\n",
    "        .dropna()\n",
    "        .reset_index()\n",
    "    )"
   ]
  },
  {
   "cell_type": "code",
   "execution_count": 22,
   "metadata": {},
   "outputs": [],
   "source": [
    "# taster info data\n",
    "df_tasters_stats = reviews.groupby(['taster_name', 'taster_twitter_handle'], dropna=False).agg({'variety':'count', 'points':['min', 'max', 'mean'], 'price':['min', 'max', 'mean']}).reset_index()\n",
    "df_tasters_stats.columns = ['_'.join(col) for col in df_tasters_stats.columns.values]\n",
    "df_tasters_stats.rename(columns={'taster_name_':'taster_name', 'taster_twitter_handle_':'taster_twitter_handle', 'variety_count':'no_reviews'}, inplace=True)"
   ]
  },
  {
   "cell_type": "code",
   "execution_count": 23,
   "metadata": {},
   "outputs": [],
   "source": [
    "def get_taster_stats(taster_name, taster_twitter_handle):\n",
    "    return df_tasters_stats[find_taster(taster_name, taster_twitter_handle, df_tasters_stats['taster_name'], df_tasters_stats['taster_twitter_handle'])]"
   ]
  },
  {
   "cell_type": "code",
   "execution_count": 24,
   "metadata": {},
   "outputs": [],
   "source": [
    "# find wine reviews (only min max values)\n",
    "def find_wine_review(taster_name, taster_handle, taster_stats, param):\n",
    "    return reviews[find_taster(taster_name, taster_handle, reviews['taster_name'], reviews['taster_twitter_handle']) & (reviews[param.split('_')[0]] == taster_stats[param].values[0])].head(1)"
   ]
  }
 ]
}